{
  "nbformat": 4,
  "nbformat_minor": 0,
  "metadata": {
    "colab": {
      "provenance": [],
      "authorship_tag": "ABX9TyOWcwfWxAeFRCVYjaKhIvcr",
      "include_colab_link": true
    },
    "kernelspec": {
      "name": "python3",
      "display_name": "Python 3"
    },
    "language_info": {
      "name": "python"
    }
  },
  "cells": [
    {
      "cell_type": "markdown",
      "metadata": {
        "id": "view-in-github",
        "colab_type": "text"
      },
      "source": [
        "<a href=\"https://colab.research.google.com/github/KoheiMinoda/Numeracal_calculation/blob/main/feated_plate1.ipynb\" target=\"_parent\"><img src=\"https://colab.research.google.com/assets/colab-badge.svg\" alt=\"Open In Colab\"/></a>"
      ]
    },
    {
      "cell_type": "code",
      "execution_count": 12,
      "metadata": {
        "id": "ML4iIE6XAQAX"
      },
      "outputs": [],
      "source": [
        "#Tを設定\n",
        "def T(i,j):\n",
        "  if i == 0:\n",
        "    t = 75\n",
        "  if i == 4:\n",
        "    t = 50\n",
        "  if j == 0:\n",
        "    t = 0\n",
        "  if j == 4:\n",
        "    t = 100\n",
        "  if i == 1 and j == 1:\n",
        "    t = 43.00061\n",
        "  if i == 1 and j == 2:\n",
        "    t = 63.21152\n",
        "  if i == 1 and j == 3:\n",
        "    t = 78.58718\n",
        "  if i == 2 and j == 1:\n",
        "    t = 33.29755\n",
        "  if i == 2 and j == 2:\n",
        "    t = 56.11238\n",
        "  if i == 2 and j == 3:\n",
        "    t = 76.06402\n",
        "  if i == 3 and j == 1:\n",
        "    t = 33.88506\n",
        "  if i == 3 and j == 2:\n",
        "    t = 52.33999\n",
        "  if i == 3 and j == 3:\n",
        "    t = 69.71050\n",
        "  return t\n",
        "\n",
        "#T(1,3)"
      ]
    },
    {
      "cell_type": "code",
      "source": [
        "import math\n",
        "\n",
        "k = 0.49\n",
        "a = 20\n",
        "\n",
        "def qx(i,j):\n",
        "  qx = -k*(T(i+1,j) - T(i-1, j)) / a\n",
        "  qx = round(qx, 3)\n",
        "  return qx\n",
        "\n",
        "def qy(i,j):\n",
        "  qy = -k*(T(i,j+1) - T(i, j-1)) / a\n",
        "  qy = round(qy, 3)\n",
        "  return qy\n",
        "\n",
        "def qn(i,j):\n",
        "  qn = (qx(i,j)**2 + qy(i,j)**2)**(1/2)\n",
        "  qn = round(qn, 3)\n",
        "  return qn\n",
        "\n",
        "def atan(i,j):\n",
        "  z = math.atan(qy(i,j) / qx(i,j))\n",
        "  z = z * 180 / math.pi\n",
        "  z = round(z, 3)\n",
        "  return z\n",
        "\n",
        "#qx(1,1)\n",
        "#qy(1,1)"
      ],
      "metadata": {
        "id": "2lzfFPazBnhv"
      },
      "execution_count": 30,
      "outputs": []
    },
    {
      "cell_type": "code",
      "source": [
        "import math\n",
        "\n",
        "i = int(input(\"熱収束を求めたい点のx軸の座標\"))\n",
        "j = int(input(\"熱収束を求めたい点のy軸の座標\"))\n",
        "\n",
        "print(\"-----------------------------------------\")\n",
        "print(\"(\", i, \", \", j, \")\",\"地点の熱収束は\", \"qx =\", qx(i,j), \"qy =\", qy(i,j))\n",
        "print(\"(\", i, \", \", j, \")\",\"地点の結果として得られる熱収束は\", \"qn =\", qn(i,j))\n",
        "print(\"(\", i, \", \", j, \")\",\"地点の角度は\", \"θ =\", atan(i,j), \"°\")\n",
        "print(\"-----------------------------------------\")"
      ],
      "metadata": {
        "colab": {
          "base_uri": "https://localhost:8080/"
        },
        "id": "uhwE-TvvFlUJ",
        "outputId": "3591506e-2f95-4e84-f285-cb2cca7530da"
      },
      "execution_count": 34,
      "outputs": [
        {
          "output_type": "stream",
          "name": "stdout",
          "text": [
            "熱収束を求めたい点のx軸の座標3\n",
            "熱収束を求めたい点のy軸の座標3\n",
            "-----------------------------------------\n",
            "( 3 ,  3 ) 地点の熱収束は qx = 0.639 qy = -1.168\n",
            "( 3 ,  3 ) 地点の結果として得られる熱収束は qn = 1.331\n",
            "( 3 ,  3 ) 地点の角度は θ = -61.317 °\n",
            "-----------------------------------------\n"
          ]
        }
      ]
    }
  ]
}